{
 "cells": [
  {
   "cell_type": "markdown",
   "metadata": {},
   "source": [
    "https://youtu.be/vmEHCJofslg"
   ]
  },
  {
   "cell_type": "code",
   "execution_count": 27,
   "metadata": {},
   "outputs": [
    {
     "name": "stdout",
     "output_type": "stream",
     "text": [
      "<class 'pandas.core.frame.DataFrame'>\n",
      "------------\n",
      "   #       Name Type 1  Type 2  HP  Attack  Defense  Sp. Atk  Sp. Def  Speed  \\\n",
      "0  1  Bulbasaur  Grass  Poison  45      49       49       65       65     45   \n",
      "1  2    Ivysaur  Grass  Poison  60      62       63       80       80     60   \n",
      "2  3   Venusaur  Grass  Poison  80      82       83      100      100     80   \n",
      "\n",
      "   Generation  Legendary  \n",
      "0           1      False  \n",
      "1           1      False  \n",
      "2           1      False  \n"
     ]
    }
   ],
   "source": [
    "import pandas as pd\n",
    "\n",
    "poke = pd.read_csv('pokemon_data.csv')\n",
    "\n",
    "print(type(poke))\n",
    "print('------------')\n",
    "print(poke.head(3))\n"
   ]
  },
  {
   "cell_type": "code",
   "execution_count": 28,
   "metadata": {},
   "outputs": [
    {
     "name": "stdout",
     "output_type": "stream",
     "text": [
      "<class 'pandas.core.indexes.base.Index'>\n",
      "------------\n",
      "Index(['#', 'Name', 'Type 1', 'Type 2', 'HP', 'Attack', 'Defense', 'Sp. Atk',\n",
      "       'Sp. Def', 'Speed', 'Generation', 'Legendary'],\n",
      "      dtype='object')\n",
      "------------\n",
      "<class 'numpy.ndarray'>\n",
      "------------\n",
      "['#' 'Name' 'Type 1' 'Type 2' 'HP' 'Attack' 'Defense' 'Sp. Atk' 'Sp. Def'\n",
      " 'Speed' 'Generation' 'Legendary']\n"
     ]
    }
   ],
   "source": [
    "# read headers\n",
    "print(type(poke.columns))\n",
    "print('------------')\n",
    "print(poke.columns)\n",
    "print('------------')\n",
    "print(type(poke.columns.values))\n",
    "print('------------')\n",
    "print(poke.columns.values)\n"
   ]
  },
  {
   "cell_type": "code",
   "execution_count": 29,
   "metadata": {},
   "outputs": [
    {
     "name": "stdout",
     "output_type": "stream",
     "text": [
      "<class 'pandas.core.series.Series'>\n",
      "------------\n",
      "0                  Bulbasaur\n",
      "1                    Ivysaur\n",
      "2                   Venusaur\n",
      "3      VenusaurMega Venusaur\n",
      "4                 Charmander\n",
      "               ...          \n",
      "795                  Diancie\n",
      "796      DiancieMega Diancie\n",
      "797      HoopaHoopa Confined\n",
      "798       HoopaHoopa Unbound\n",
      "799                Volcanion\n",
      "Name: Name, Length: 800, dtype: object\n",
      "------------\n",
      "<class 'pandas.core.series.Series'>\n",
      "------------\n",
      "0                Bulbasaur\n",
      "1                  Ivysaur\n",
      "2                 Venusaur\n",
      "3    VenusaurMega Venusaur\n",
      "4               Charmander\n",
      "Name: Name, dtype: object\n",
      "------------\n",
      "<class 'pandas.core.frame.DataFrame'>\n",
      "                    Name  HP\n",
      "0              Bulbasaur  45\n",
      "1                Ivysaur  60\n",
      "2               Venusaur  80\n",
      "3  VenusaurMega Venusaur  80\n",
      "4             Charmander  39\n"
     ]
    }
   ],
   "source": [
    "# read columns\n",
    "print(type(poke['Name']))\n",
    "# print(type(poke.Name)) # also works\n",
    "print('------------')\n",
    "print(poke['Name'])\n",
    "print('------------')\n",
    "print(type(poke['Name'][0:5]))\n",
    "print('------------')\n",
    "print(poke['Name'][0:5])\n",
    "print('------------')\n",
    "print(type(poke[['Name', 'HP']][0:5]))\n",
    "print(poke[['Name', 'HP']][0:5])\n",
    "\n"
   ]
  },
  {
   "cell_type": "code",
   "execution_count": 30,
   "metadata": {},
   "outputs": [
    {
     "name": "stdout",
     "output_type": "stream",
     "text": [
      "<class 'pandas.core.series.Series'>\n",
      "------------\n",
      "#                   2\n",
      "Name          Ivysaur\n",
      "Type 1          Grass\n",
      "Type 2         Poison\n",
      "HP                 60\n",
      "Attack             62\n",
      "Defense            63\n",
      "Sp. Atk            80\n",
      "Sp. Def            80\n",
      "Speed              60\n",
      "Generation          1\n",
      "Legendary       False\n",
      "Name: 1, dtype: object\n",
      "------------\n",
      "<class 'pandas.core.frame.DataFrame'>\n",
      "------------\n",
      "   #                   Name Type 1  Type 2  HP  Attack  Defense  Sp. Atk  \\\n",
      "0  1              Bulbasaur  Grass  Poison  45      49       49       65   \n",
      "1  2                Ivysaur  Grass  Poison  60      62       63       80   \n",
      "2  3               Venusaur  Grass  Poison  80      82       83      100   \n",
      "3  3  VenusaurMega Venusaur  Grass  Poison  80     100      123      122   \n",
      "\n",
      "   Sp. Def  Speed  Generation  Legendary  \n",
      "0       65     45           1      False  \n",
      "1       80     60           1      False  \n",
      "2      100     80           1      False  \n",
      "3      120     80           1      False  \n"
     ]
    }
   ],
   "source": [
    "# read rows\n",
    "print(type(poke.iloc[1]))\n",
    "print('------------')\n",
    "print(poke.iloc[1])\n",
    "print('------------')\n",
    "print(type(poke.iloc[1:4]))\n",
    "print('------------')\n",
    "print(poke.iloc[0:4])\n"
   ]
  },
  {
   "cell_type": "code",
   "execution_count": 31,
   "metadata": {},
   "outputs": [
    {
     "name": "stdout",
     "output_type": "stream",
     "text": [
      "<class 'numpy.int64'>\n",
      "------------\n",
      "82\n",
      "------------\n",
      "<class 'str'>\n",
      "------------\n",
      "Poison\n"
     ]
    }
   ],
   "source": [
    "# read a specific location\n",
    "print(type(poke.iloc[2,5]))\n",
    "print('------------')\n",
    "print(poke.iloc[2,5])\n",
    "print('------------')\n",
    "print(type(poke.iloc[2,3]))\n",
    "print('------------')\n",
    "print(poke.iloc[2,3])\n"
   ]
  },
  {
   "cell_type": "code",
   "execution_count": 32,
   "metadata": {},
   "outputs": [
    {
     "name": "stdout",
     "output_type": "stream",
     "text": [
      "0 Bulbasaur\n",
      "1 Ivysaur\n",
      "2 Venusaur\n",
      "3 VenusaurMega Venusaur\n",
      "4 Charmander\n"
     ]
    }
   ],
   "source": [
    "# row iteration\n",
    "count = 0\n",
    "for index,row in poke.iterrows():\n",
    "    print(index, row['Name'])\n",
    "    count = count + 1\n",
    "    if count == 5: break\n"
   ]
  },
  {
   "cell_type": "code",
   "execution_count": 33,
   "metadata": {},
   "outputs": [
    {
     "name": "stdout",
     "output_type": "stream",
     "text": [
      "<class 'pandas.core.series.Series'>\n",
      "------------\n",
      "0    False\n",
      "1    False\n",
      "2    False\n",
      "3    False\n",
      "Name: Type 1, dtype: bool\n",
      "------------\n",
      "<class 'pandas.core.frame.DataFrame'>\n",
      "------------\n",
      "   #                       Name Type 1  Type 2  HP  Attack  Defense  Sp. Atk  \\\n",
      "4  4                 Charmander   Fire     NaN  39      52       43       60   \n",
      "5  5                 Charmeleon   Fire     NaN  58      64       58       80   \n",
      "6  6                  Charizard   Fire  Flying  78      84       78      109   \n",
      "7  6  CharizardMega Charizard X   Fire  Dragon  78     130      111      130   \n",
      "\n",
      "   Sp. Def  Speed  Generation  Legendary  \n",
      "4       50     65           1      False  \n",
      "5       65     80           1      False  \n",
      "6       85    100           1      False  \n",
      "7       85    100           1      False  \n"
     ]
    }
   ],
   "source": [
    "# locate by content\n",
    "print(type(poke['Type 1'] == 'Fire'))\n",
    "print('------------')\n",
    "print((poke['Type 1'] == 'Fire').head(4))\n",
    "print('------------')\n",
    "print(type(poke.loc[poke['Type 1'] == 'Fire']))\n",
    "print('------------')\n",
    "print(poke.loc[poke['Type 1'] == 'Fire'].head(4))\n"
   ]
  },
  {
   "cell_type": "code",
   "execution_count": 34,
   "metadata": {},
   "outputs": [
    {
     "name": "stdout",
     "output_type": "stream",
     "text": [
      "                #          HP      Attack     Defense     Sp. Atk     Sp. Def  \\\n",
      "count  800.000000  800.000000  800.000000  800.000000  800.000000  800.000000   \n",
      "mean   362.813750   69.258750   79.001250   73.842500   72.820000   71.902500   \n",
      "std    208.343798   25.534669   32.457366   31.183501   32.722294   27.828916   \n",
      "min      1.000000    1.000000    5.000000    5.000000   10.000000   20.000000   \n",
      "25%    184.750000   50.000000   55.000000   50.000000   49.750000   50.000000   \n",
      "50%    364.500000   65.000000   75.000000   70.000000   65.000000   70.000000   \n",
      "75%    539.250000   80.000000  100.000000   90.000000   95.000000   90.000000   \n",
      "max    721.000000  255.000000  190.000000  230.000000  194.000000  230.000000   \n",
      "\n",
      "            Speed  Generation  \n",
      "count  800.000000   800.00000  \n",
      "mean    68.277500     3.32375  \n",
      "std     29.060474     1.66129  \n",
      "min      5.000000     1.00000  \n",
      "25%     45.000000     2.00000  \n",
      "50%     65.000000     3.00000  \n",
      "75%     90.000000     5.00000  \n",
      "max    180.000000     6.00000  \n"
     ]
    }
   ],
   "source": [
    "# data stats\n",
    "print(poke.describe())"
   ]
  },
  {
   "cell_type": "code",
   "execution_count": 35,
   "metadata": {},
   "outputs": [
    {
     "name": "stdout",
     "output_type": "stream",
     "text": [
      "       #      Name  Type 1 Type 2  HP  Attack  Defense  Sp. Atk  Sp. Def  \\\n",
      "316  292  Shedinja     Bug  Ghost   1      90       45       30       30   \n",
      "55    50   Diglett  Ground    NaN  10      55       25       35       45   \n",
      "139  129  Magikarp   Water    NaN  20      10       55       15       20   \n",
      "388  355   Duskull   Ghost    NaN  20      40       90       30       90   \n",
      "\n",
      "     Speed  Generation  Legendary  \n",
      "316     40           3      False  \n",
      "55      95           1      False  \n",
      "139     80           1      False  \n",
      "388     25           3      False  \n",
      "------------\n",
      "       #       Name   Type 1 Type 2   HP  Attack  Defense  Sp. Atk  Sp. Def  \\\n",
      "261  242    Blissey   Normal    NaN  255      10       10       75      135   \n",
      "121  113    Chansey   Normal    NaN  250       5        5       35      105   \n",
      "217  202  Wobbuffet  Psychic    NaN  190      33       58       33       58   \n",
      "351  321    Wailord    Water    NaN  170      90       45       90       45   \n",
      "\n",
      "     Speed  Generation  Legendary  \n",
      "261     55           2      False  \n",
      "121     50           1      False  \n",
      "217     33           2      False  \n",
      "351     60           3      False  \n"
     ]
    }
   ],
   "source": [
    "# sorting\n",
    "print(poke.sort_values('HP').head(4))\n",
    "print('------------')\n",
    "print(poke.sort_values('HP', ascending=False).head(4))\n"
   ]
  },
  {
   "cell_type": "code",
   "execution_count": 36,
   "metadata": {},
   "outputs": [
    {
     "name": "stdout",
     "output_type": "stream",
     "text": [
      "       #       Name    Type 1 Type 2   HP  Attack  Defense  Sp. Atk  Sp. Def  \\\n",
      "261  242    Blissey    Normal    NaN  255      10       10       75      135   \n",
      "121  113    Chansey    Normal    NaN  250       5        5       35      105   \n",
      "217  202  Wobbuffet   Psychic    NaN  190      33       58       33       58   \n",
      "351  321    Wailord     Water    NaN  170      90       45       90       45   \n",
      "655  594  Alomomola     Water    NaN  165      75       80       40       45   \n",
      "..   ...        ...       ...    ...  ...     ...      ...      ...      ...   \n",
      "487  439   Mime Jr.   Psychic  Fairy   20      25       45       70       90   \n",
      "186  172      Pichu  Electric    NaN   20      40       15       35       35   \n",
      "388  355    Duskull     Ghost    NaN   20      40       90       30       90   \n",
      "55    50    Diglett    Ground    NaN   10      55       25       35       45   \n",
      "316  292   Shedinja       Bug  Ghost    1      90       45       30       30   \n",
      "\n",
      "     Speed  Generation  Legendary  \n",
      "261     55           2      False  \n",
      "121     50           1      False  \n",
      "217     33           2      False  \n",
      "351     60           3      False  \n",
      "655     65           5      False  \n",
      "..     ...         ...        ...  \n",
      "487     60           4      False  \n",
      "186     60           2      False  \n",
      "388     25           3      False  \n",
      "55      95           1      False  \n",
      "316     40           3      False  \n",
      "\n",
      "[800 rows x 12 columns]\n"
     ]
    }
   ],
   "source": [
    "print(poke.sort_values(['HP', 'Attack'], ascending=[False, True]))"
   ]
  },
  {
   "cell_type": "code",
   "execution_count": 37,
   "metadata": {},
   "outputs": [
    {
     "name": "stdout",
     "output_type": "stream",
     "text": [
      "   #                   Name Type 1  HP  Attack  Defense  Sp. Atk  Sp. Def  \\\n",
      "0  1              Bulbasaur  Grass  45      49       49       65       65   \n",
      "1  2                Ivysaur  Grass  60      62       63       80       80   \n",
      "2  3               Venusaur  Grass  80      82       83      100      100   \n",
      "3  3  VenusaurMega Venusaur  Grass  80     100      123      122      120   \n",
      "4  4             Charmander   Fire  39      52       43       60       50   \n",
      "\n",
      "   Speed  Generation  Legendary  Total  \n",
      "0     45           1      False    143  \n",
      "1     60           1      False    185  \n",
      "2     80           1      False    245  \n",
      "3     80           1      False    303  \n",
      "4     65           1      False    134  \n"
     ]
    }
   ],
   "source": [
    "# making changes to data\n",
    "\n",
    "# remove columns, drop does not remove, you have to reassign\n",
    "poke = poke.drop(columns='Type 2')\n",
    "\n",
    "# add column with total of stats\n",
    "poke['Total'] = poke['HP']+poke['Attack']+poke['Defense']\n",
    "print(poke.head(5))"
   ]
  },
  {
   "cell_type": "code",
   "execution_count": 38,
   "metadata": {},
   "outputs": [
    {
     "name": "stdout",
     "output_type": "stream",
     "text": [
      "   #                   Name Type 1  HP  Attack  Defense  Sp. Atk  Sp. Def  \\\n",
      "0  1              Bulbasaur  Grass  45      49       49       65       65   \n",
      "1  2                Ivysaur  Grass  60      62       63       80       80   \n",
      "2  3               Venusaur  Grass  80      82       83      100      100   \n",
      "3  3  VenusaurMega Venusaur  Grass  80     100      123      122      120   \n",
      "4  4             Charmander   Fire  39      52       43       60       50   \n",
      "\n",
      "   Speed  Generation  Legendary  Total  TotalB  \n",
      "0     45           1      False    143     143  \n",
      "1     60           1      False    185     185  \n",
      "2     80           1      False    245     245  \n",
      "3     80           1      False    303     303  \n",
      "4     65           1      False    134     134  \n"
     ]
    }
   ],
   "source": [
    "# another way to add elements in row\n",
    "# : is all columns\n",
    "# axis=1 is horizontal\n",
    "poke['TotalB'] = poke.iloc[:,3:6].sum(axis=1)\n",
    "print(poke.head(5))"
   ]
  },
  {
   "cell_type": "code",
   "execution_count": 56,
   "metadata": {},
   "outputs": [
    {
     "name": "stdout",
     "output_type": "stream",
     "text": [
      "['#', 'Name', 'Type 1', 'HP', 'Attack', 'Defense', 'Sp. Atk', 'Sp. Def', 'Speed', 'Generation', 'Legendary', 'Total', 'TotalB']\n",
      "['#', 'Name', 'Type 1', 'HP', 'Attack', 'Defense', 'Total', 'Sp. Atk', 'Sp. Def', 'Speed', 'Generation']\n",
      "   #                   Name Type 1  HP  Attack  Defense  Total  Sp. Atk  \\\n",
      "0  1              Bulbasaur  Grass  45      49       49    143       65   \n",
      "1  2                Ivysaur  Grass  60      62       63    185       80   \n",
      "2  3               Venusaur  Grass  80      82       83    245      100   \n",
      "3  3  VenusaurMega Venusaur  Grass  80     100      123    303      122   \n",
      "4  4             Charmander   Fire  39      52       43    134       60   \n",
      "\n",
      "   Sp. Def  Speed  Generation  \n",
      "0       65     45           1  \n",
      "1       80     60           1  \n",
      "2      100     80           1  \n",
      "3      120     80           1  \n",
      "4       50     65           1  \n"
     ]
    }
   ],
   "source": [
    "# rearanging columns\n",
    "cols = list(poke.columns.values)\n",
    "print(cols)\n",
    "\n",
    "colsNew = cols[0:6] + [cols[-2]] + cols[6:-3]\n",
    "print(colsNew)\n",
    "pokeB = poke[colsNew]\n",
    "print(pokeB.head(5))"
   ]
  },
  {
   "cell_type": "code",
   "execution_count": 60,
   "metadata": {},
   "outputs": [],
   "source": [
    "# writing to csv file\n",
    "pokeB.to_csv('pokemon_data_changed.csv')\n",
    "\n",
    "# with no index column\n",
    "pokeB.to_csv('pokemon_data_changed_no_index.csv', index=False)\n",
    "\n",
    "# to tab seperated txt file\n",
    "pokeB.to_csv('pokemon_data_changed.txt', index=False, sep='\\t')"
   ]
  }
 ],
 "metadata": {
  "kernelspec": {
   "display_name": "Python 3.9.7 ('base')",
   "language": "python",
   "name": "python3"
  },
  "language_info": {
   "codemirror_mode": {
    "name": "ipython",
    "version": 3
   },
   "file_extension": ".py",
   "mimetype": "text/x-python",
   "name": "python",
   "nbconvert_exporter": "python",
   "pygments_lexer": "ipython3",
   "version": "3.9.7"
  },
  "orig_nbformat": 4,
  "vscode": {
   "interpreter": {
    "hash": "ff6dd4698a39df961d1afb5c97fe9b1dd59736bc2b94eb71202f5967d42a625f"
   }
  }
 },
 "nbformat": 4,
 "nbformat_minor": 2
}
