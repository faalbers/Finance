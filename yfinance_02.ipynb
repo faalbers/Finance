{
 "cells": [
  {
   "cell_type": "markdown",
   "metadata": {},
   "source": [
    "https://youtu.be/NnE1KVhSyzw"
   ]
  },
  {
   "cell_type": "code",
   "execution_count": 9,
   "metadata": {},
   "outputs": [],
   "source": [
    "import pandas as pd\n",
    "import yfinance as yf\n",
    "import matplotlib.pyplot as plt\n",
    "from datetime import datetime\n",
    "\n",
    "plt.style.use('seaborn')\n"
   ]
  },
  {
   "cell_type": "code",
   "execution_count": 10,
   "metadata": {},
   "outputs": [],
   "source": [
    "# get Microsoft ticker and info\n",
    "msft = yf.Ticker('msft')\n",
    "msftInfo = msft.info\n"
   ]
  },
  {
   "cell_type": "code",
   "execution_count": 11,
   "metadata": {},
   "outputs": [
    {
     "name": "stdout",
     "output_type": "stream",
     "text": [
      "Date\n",
      "2003-02-19    0.08\n",
      "2003-10-15    0.16\n",
      "2004-08-23    0.08\n",
      "2004-11-15    3.08\n",
      "2005-02-15    0.08\n",
      "              ... \n",
      "2021-05-19    0.56\n",
      "2021-08-18    0.56\n",
      "2021-11-17    0.62\n",
      "2022-02-16    0.62\n",
      "2022-05-18    0.62\n",
      "Name: Dividends, Length: 74, dtype: float64\n"
     ]
    }
   ],
   "source": [
    "# for key,value in msftInfo.items():\n",
    "#     print('\\n%s:' % key)\n",
    "#     print(value)\n",
    "\n",
    "# print(msftInfo['sharesOutstanding'])\n",
    "\n",
    "# print(msft.recommendations)\n",
    "# print(msft.splits)\n",
    "# print(msft.major_holders)\n",
    "# print(msft.institutional_holders)\n",
    "print(msft.dividends)\n"
   ]
  },
  {
   "cell_type": "code",
   "execution_count": 12,
   "metadata": {},
   "outputs": [
    {
     "data": {
      "image/png": "[encoded data removed]",
      "text/plain": [
       "<Figure size 576x396 with 1 Axes>"
      ]
     },
     "metadata": {},
     "output_type": "display_data"
    }
   ],
   "source": [
    "df = msft.dividends\n",
    "#print(type(df))\n",
    "# print(df)\n",
    "data = df.resample('Y').sum()\n",
    "# print(data)\n",
    "data = data.reset_index()\n",
    "# print(data)\n",
    "data['Year'] = data['Date'].dt.year\n",
    "# print(data)\n",
    "\n",
    "# plot it\n",
    "plt.figure()\n",
    "plt.bar(data['Year'], data['Dividends'])\n",
    "plt.ylabel('Divident Yield ($)')\n",
    "plt.xlabel('Year')\n",
    "plt.show()\n"
   ]
  }
 ],
 "metadata": {
  "kernelspec": {
   "display_name": "Python 3.9.7 ('base')",
   "language": "python",
   "name": "python3"
  },
  "language_info": {
   "codemirror_mode": {
    "name": "ipython",
    "version": 3
   },
   "file_extension": ".py",
   "mimetype": "text/x-python",
   "name": "python",
   "nbconvert_exporter": "python",
   "pygments_lexer": "ipython3",
   "version": "3.9.7"
  },
  "orig_nbformat": 4,
  "vscode": {
   "interpreter": {
    "hash": "ff6dd4698a39df961d1afb5c97fe9b1dd59736bc2b94eb71202f5967d42a625f"
   }
  }
 },
 "nbformat": 4,
 "nbformat_minor": 2
}
